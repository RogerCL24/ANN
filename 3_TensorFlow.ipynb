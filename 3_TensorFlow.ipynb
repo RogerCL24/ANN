{
  "nbformat": 4,
  "nbformat_minor": 0,
  "metadata": {
    "colab": {
      "provenance": [],
      "authorship_tag": "ABX9TyOWfKbJRo4pdZXtQUExfFmg",
      "include_colab_link": true
    },
    "kernelspec": {
      "name": "python3",
      "display_name": "Python 3"
    },
    "language_info": {
      "name": "python"
    }
  },
  "cells": [
    {
      "cell_type": "markdown",
      "metadata": {
        "id": "view-in-github",
        "colab_type": "text"
      },
      "source": [
        "<a href=\"https://colab.research.google.com/github/RogerCL24/ANN/blob/main/3_TensorFlow.ipynb\" target=\"_parent\"><img src=\"https://colab.research.google.com/assets/colab-badge.svg\" alt=\"Open In Colab\"/></a>"
      ]
    },
    {
      "cell_type": "code",
      "execution_count": null,
      "metadata": {
        "id": "lutoSRA2pkjO"
      },
      "outputs": [],
      "source": [
        "# Importamos TensorFlow\n",
        "\n",
        "import tensorflow as tf"
      ]
    },
    {
      "cell_type": "code",
      "source": [
        "mnist = tf.keras.datasets.mnist # mnist -> images of 0 to 9 digits\n",
        "\n",
        "(x_train, y_train), (x_test, y_test) =  mnist.load_data()\n",
        "x_train, x_test = x_train / 255.0, x_test / 255.0"
      ],
      "metadata": {
        "colab": {
          "base_uri": "https://localhost:8080/"
        },
        "id": "cueS2_tgp5fn",
        "outputId": "5bbc3e89-f66e-423e-d230-ca5c858490ba"
      },
      "execution_count": null,
      "outputs": [
        {
          "output_type": "stream",
          "name": "stdout",
          "text": [
            "Downloading data from https://storage.googleapis.com/tensorflow/tf-keras-datasets/mnist.npz\n",
            "11490434/11490434 [==============================] - 1s 0us/step\n"
          ]
        }
      ]
    },
    {
      "cell_type": "markdown",
      "source": [
        "Build a `tf.keras.Sequential` model piling (**Arquitecture**)."
      ],
      "metadata": {
        "id": "Yz7kt2vqtfiK"
      }
    },
    {
      "cell_type": "code",
      "source": [
        "model = tf.keras.models.Sequential([\n",
        "    tf.keras.layers.Flatten(input_shape=(28, 28)), # 1. Input layer: With 28x28 shape of the image, it gets flatten into a vector in order to be sended to the next layer\n",
        "    tf.keras.layers.Dense(128, activation='relu'), # 2. Dense layer: Receive 128 neurons with ReLU function for the activation\n",
        "    tf.keras.layers.Dropout(0.2),                  # 3. Droput layer: Prevents overfitting, clean the input randomly to not overload\n",
        "    tf.keras.layers.Dense(10, activation='softmax')# 4. Last layer: Only can be 10 neurons (0 to 9 digit images)\n",
        "])\n",
        "\n",
        "# More parameters\n",
        "model.compile(optimizer = 'adam',\n",
        "              loss = 'sparse_categorical_crossentropy', # Performance assessment\n",
        "              metrics = ['accuracy'])"
      ],
      "metadata": {
        "id": "zkcFfmaxsfks"
      },
      "execution_count": null,
      "outputs": []
    },
    {
      "cell_type": "markdown",
      "source": [
        "Train & evaluate the defined model:"
      ],
      "metadata": {
        "id": "CSCsk0Vxx1QV"
      }
    },
    {
      "cell_type": "code",
      "source": [
        "model.fit(x_train, y_train, epochs=5) # repeat the training 5 times (epochs)\n",
        "\n",
        "model.evaluate(x_test, y_test, verbose=2)"
      ],
      "metadata": {
        "colab": {
          "base_uri": "https://localhost:8080/"
        },
        "id": "gBc1ifRfx72D",
        "outputId": "6adf9a60-280a-423d-e542-c061d9f8a1a0"
      },
      "execution_count": null,
      "outputs": [
        {
          "output_type": "stream",
          "name": "stdout",
          "text": [
            "Epoch 1/5\n",
            "1875/1875 [==============================] - 9s 5ms/step - loss: 0.2947 - accuracy: 0.9134\n",
            "Epoch 2/5\n",
            "1875/1875 [==============================] - 7s 4ms/step - loss: 0.1397 - accuracy: 0.9596\n",
            "Epoch 3/5\n",
            "1875/1875 [==============================] - 8s 4ms/step - loss: 0.1060 - accuracy: 0.9672\n",
            "Epoch 4/5\n",
            "1875/1875 [==============================] - 8s 4ms/step - loss: 0.0861 - accuracy: 0.9736\n",
            "Epoch 5/5\n",
            "1875/1875 [==============================] - 8s 4ms/step - loss: 0.0750 - accuracy: 0.9767\n",
            "313/313 - 1s - loss: 0.0778 - accuracy: 0.9767 - 666ms/epoch - 2ms/step\n"
          ]
        },
        {
          "output_type": "execute_result",
          "data": {
            "text/plain": [
              "[0.07784364372491837, 0.9767000079154968]"
            ]
          },
          "metadata": {},
          "execution_count": 4
        }
      ]
    },
    {
      "cell_type": "markdown",
      "source": [
        "As you see the first epoch has a loss of 0.2947 and an accuracy of ``91.34%`` and the last epoch has a loss only of 0.0750 and an accuracy of almost ``98%``"
      ],
      "metadata": {
        "id": "syUxFz2NzekK"
      }
    }
  ]
}