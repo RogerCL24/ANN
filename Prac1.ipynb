{
  "nbformat": 4,
  "nbformat_minor": 0,
  "metadata": {
    "colab": {
      "provenance": [],
      "authorship_tag": "ABX9TyN9fXLHm3ITau4BhgmyYKBN",
      "include_colab_link": true
    },
    "kernelspec": {
      "name": "python3",
      "display_name": "Python 3"
    },
    "language_info": {
      "name": "python"
    }
  },
  "cells": [
    {
      "cell_type": "markdown",
      "metadata": {
        "id": "view-in-github",
        "colab_type": "text"
      },
      "source": [
        "<a href=\"https://colab.research.google.com/github/RogerCL24/ANN/blob/main/Prac1.ipynb\" target=\"_parent\"><img src=\"https://colab.research.google.com/assets/colab-badge.svg\" alt=\"Open In Colab\"/></a>"
      ]
    },
    {
      "cell_type": "markdown",
      "source": [
        "# **Artificial Neural Network**"
      ],
      "metadata": {
        "id": "5yQPQW1RYjal"
      }
    },
    {
      "cell_type": "code",
      "execution_count": 2,
      "metadata": {
        "id": "cFQPhGxiYPX7"
      },
      "outputs": [],
      "source": [
        "# example 1\n",
        "\n",
        "import numpy as np\n",
        "\n",
        "class perceptron():\n",
        "  def _init_(self, inputs, weights, name=None):\n",
        "    self.inputs = np.array(inputs)\n",
        "    self.weights = np.array(weights)\n",
        "    self.name = name or \"Default perceptron\"\n",
        "    self.size = len(self.inputs)\n",
        "\n",
        "  def decide (self, threshold):\n",
        "    # Compute the inner product (@) and compare with threshold.\n",
        "    return (self.inputs @ self.widgets) >= threshold"
      ]
    },
    {
      "cell_type": "code",
      "source": [
        "inputs, weights = [], []\n",
        "\n",
        "considerations = [\n",
        "    \"There is guarantee? \",\n",
        "    \"Has promotion? \"\n",
        "]\n",
        "\n",
        "for consideration in considerations:\n",
        "  i = int(input(consideration))\n",
        "  w = int(input(\"weight...\"))\n",
        "  print()\n",
        "\n",
        "  # Let's add them to our lists:\n",
        "  inputs.append(i)\n",
        "  weights.append(w)\n",
        "\n",
        "threshold = int(input(\"threshold...\"))"
      ],
      "metadata": {
        "colab": {
          "base_uri": "https://localhost:8080/"
        },
        "id": "qV0OOsfcaUp7",
        "outputId": "59deb555-2c8b-4e9e-a2f8-8700b2f1219e"
      },
      "execution_count": 3,
      "outputs": [
        {
          "name": "stdout",
          "output_type": "stream",
          "text": [
            "There is guarantee? 1\n",
            "weight...4\n",
            "\n",
            "Has promotion? 1\n",
            "weight...3\n",
            "\n",
            "threshold...3\n"
          ]
        }
      ]
    },
    {
      "cell_type": "code",
      "source": [
        "p = perceptron(inputs, weights)\n",
        "print(p.size)\n",
        "\n",
        "p.decide(threshold)"
      ],
      "metadata": {
        "id": "WnpS-8NYcAiP"
      },
      "execution_count": null,
      "outputs": []
    }
  ]
}