{
  "nbformat": 4,
  "nbformat_minor": 0,
  "metadata": {
    "colab": {
      "provenance": [],
      "authorship_tag": "ABX9TyNzLfm98VLj+KPoUIoFTLMG",
      "include_colab_link": true
    },
    "kernelspec": {
      "name": "python3",
      "display_name": "Python 3"
    },
    "language_info": {
      "name": "python"
    }
  },
  "cells": [
    {
      "cell_type": "markdown",
      "metadata": {
        "id": "view-in-github",
        "colab_type": "text"
      },
      "source": [
        "<a href=\"https://colab.research.google.com/github/RogerCL24/ANN/blob/main/2_ANN.ipynb\" target=\"_parent\"><img src=\"https://colab.research.google.com/assets/colab-badge.svg\" alt=\"Open In Colab\"/></a>"
      ]
    },
    {
      "cell_type": "markdown",
      "source": [
        "# **Artificial Neural Network**"
      ],
      "metadata": {
        "id": "5yQPQW1RYjal"
      }
    },
    {
      "cell_type": "code",
      "execution_count": null,
      "metadata": {
        "id": "cFQPhGxiYPX7"
      },
      "outputs": [],
      "source": [
        "# example 1\n",
        "\n",
        "import numpy as np\n",
        "\n",
        "class perceptron():\n",
        "  def __init__(self, inputs, weights, name=None):\n",
        "    self.inputs = np.array(inputs)\n",
        "    self.weights = np.array(weights)\n",
        "    self.name = name or \"Default perceptron\"\n",
        "    self.size = len(self.inputs)\n",
        "\n",
        "  def decide (self, threshold):\n",
        "    # Compute the inner product (@) and compare with threshold.\n",
        "    return (self.inputs @ self.weights) >= threshold"
      ]
    },
    {
      "cell_type": "code",
      "source": [
        "inputs, weights = [], []\n",
        "\n",
        "considerations = [\n",
        "    \"There is guarantee? \",\n",
        "    \"Has promotion? \"\n",
        "]\n",
        "\n",
        "for consideration in considerations:\n",
        "  i = int(input(consideration))\n",
        "  w = int(input(\"weight...\"))\n",
        "  print()\n",
        "\n",
        "  # Let's add them to our lists:\n",
        "  inputs.append(i)\n",
        "  weights.append(w)\n",
        "\n",
        "threshold = int(input(\"threshold...\"))"
      ],
      "metadata": {
        "colab": {
          "base_uri": "https://localhost:8080/"
        },
        "id": "qV0OOsfcaUp7",
        "outputId": "efc0bd4d-68b1-49ca-c679-a033aca834fa"
      },
      "execution_count": null,
      "outputs": [
        {
          "name": "stdout",
          "output_type": "stream",
          "text": [
            "There is guarantee? 1\n",
            "weight...4\n",
            "\n",
            "Has promotion? 1\n",
            "weight...3\n",
            "\n",
            "threshold...3\n"
          ]
        }
      ]
    },
    {
      "cell_type": "code",
      "source": [
        "p = perceptron(inputs,weights)\n",
        "print(p.size)\n",
        "\n",
        "p.decide(threshold)"
      ],
      "metadata": {
        "colab": {
          "base_uri": "https://localhost:8080/"
        },
        "id": "WnpS-8NYcAiP",
        "outputId": "1a734536-c486-453c-f98d-9024fbf403b3"
      },
      "execution_count": null,
      "outputs": [
        {
          "output_type": "stream",
          "name": "stdout",
          "text": [
            "2\n"
          ]
        },
        {
          "output_type": "execute_result",
          "data": {
            "text/plain": [
              "True"
            ]
          },
          "metadata": {},
          "execution_count": 11
        }
      ]
    },
    {
      "cell_type": "code",
      "source": [
        "# Activation function\n",
        "def sigmoid(t):\n",
        "    return 1/(1+np.exp(-t))\n",
        "\n",
        "# Derivative of sigmoid\n",
        "def sigmoid_derivative(p):\n",
        "    return p * (1 - p)\n",
        "\n",
        "# Simplified Neural Network class\n",
        "class NeuralNetwork:\n",
        "  def __init__(self, x, y):\n",
        "    self.input = x\n",
        "    self.weights1 = np.random.rand(self.input.shape[1],4)\n",
        "    self.weights2 = np.random.rand(4,1)\n",
        "    self.y = y\n",
        "    self.output = np.zeros(y.shape)\n",
        "\n",
        "  def feedforward(self):\n",
        "    self.layer1 = sigmoid(np.dot(self.input, self.weights1))\n",
        "    self.output = sigmoid(np.dor(self.layer1, self.weights2))\n",
        "\n",
        "  def backprop(self):\n",
        "    d_weights2 = np.dot(self.layer1.T, 2*(self.y - self.output) * sigmoid_derivative(self.output))\n",
        "    d_weights1 = np.dot(self.input.T, np.dot(2*(self.y - self.output) * sigmoid_derivative(self.output),self.weights2.T)*sigmoid_derivative(self.layer1))\n",
        "\n",
        "    self.weights1 += d_weights1\n",
        "    self.weights2 += d_weights2\n",
        "\n",
        "  def train(self, x, y):\n",
        "    self.output = self.feedforward()\n",
        "    self.backprop()"
      ],
      "metadata": {
        "id": "Xvz9yCufjsD5"
      },
      "execution_count": null,
      "outputs": []
    }
  ]
}